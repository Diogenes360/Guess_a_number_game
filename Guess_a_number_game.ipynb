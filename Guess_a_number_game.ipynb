{
 "cells": [
  {
   "cell_type": "markdown",
   "id": "a8a8a63d",
   "metadata": {},
   "source": [
    "# Guess a number game"
   ]
  },
  {
   "cell_type": "code",
   "execution_count": 8,
   "id": "2e3721f7",
   "metadata": {},
   "outputs": [
    {
     "name": "stdout",
     "output_type": "stream",
     "text": [
      "Welcome to the Number Guessing Game!\n",
      "I'm thinking of a number between 1 and 50.\n",
      "Choose a difficulty. Type 'easy' or 'hard': easy\n",
      "You have 15 attempts remaining to guess the number.\n",
      "Make a guess: 30\n",
      "Too high.\n",
      "Guess again.\n",
      "You have 14 attempts remaining to guess the number.\n",
      "Make a guess: 20\n",
      "Too high.\n",
      "Guess again.\n",
      "You have 13 attempts remaining to guess the number.\n",
      "Make a guess: 10\n",
      "Too high.\n",
      "Guess again.\n",
      "You have 12 attempts remaining to guess the number.\n",
      "Make a guess: 5\n",
      "Too low.\n",
      "Guess again.\n",
      "You have 11 attempts remaining to guess the number.\n",
      "Make a guess: 7\n",
      "Too low.\n",
      "Guess again.\n",
      "You have 10 attempts remaining to guess the number.\n",
      "Make a guess: 8\n",
      "Too low.\n",
      "Guess again.\n",
      "You have 9 attempts remaining to guess the number.\n",
      "Make a guess: 9\n",
      "You got it! The answer was 9.\n"
     ]
    }
   ],
   "source": [
    "from random import randint\n",
    "\n",
    "EASY_LEVEL_TURNS = 15\n",
    "HARD_LEVEL_TURNS = 5\n",
    "\n",
    "#Function to check user's guess against actual answer.\n",
    "def check_answer(guess, answer, turns):\n",
    "  \"\"\"checks answer against guess. Returns the number of turns remaining.\"\"\"\n",
    "  if guess > answer:\n",
    "    print(\"Too high.\")\n",
    "    return turns - 1\n",
    "  elif guess < answer:\n",
    "    print(\"Too low.\")\n",
    "    return turns - 1\n",
    "  else:\n",
    "    print(f\"You got it! The answer was {answer}.\")\n",
    "\n",
    "#Make function to set difficulty.\n",
    "def set_difficulty():\n",
    "  level = input(\"Choose a difficulty. Type 'easy' or 'hard': \")\n",
    "  if level == \"easy\":\n",
    "    return EASY_LEVEL_TURNS\n",
    "  else:\n",
    "    return HARD_LEVEL_TURNS\n",
    "\n",
    "def game():\n",
    "  #Choosing a random number between 1 and 50.\n",
    "  print(\"Welcome to the Number Guessing Game!\")\n",
    "  print(\"I'm thinking of a number between 1 and 50.\")\n",
    "  answer = randint(1, 50)\n",
    "  #print(f\"Pssst, the correct answer is {answer}\") \n",
    "\n",
    "  turns = set_difficulty()\n",
    "  #Repeat the guessing functionality if they get it wrong.\n",
    "  guess = 0\n",
    "  while guess != answer:\n",
    "    print(f\"You have {turns} attempts remaining to guess the number.\")\n",
    "\n",
    "    #Let the user guess a number.\n",
    "    guess = int(input(\"Make a guess: \"))\n",
    "\n",
    "    #Track the number of turns and reduce by 1 if they get it wrong.\n",
    "    turns = check_answer(guess, answer, turns)\n",
    "    if turns == 0:\n",
    "      print(\"You've run out of guesses, you lose.\")\n",
    "      return\n",
    "    elif guess != answer:\n",
    "      print(\"Guess again.\")\n",
    "\n",
    "\n",
    "game()\n",
    "\n"
   ]
  }
 ],
 "metadata": {
  "kernelspec": {
   "display_name": "Python 3 (ipykernel)",
   "language": "python",
   "name": "python3"
  },
  "language_info": {
   "codemirror_mode": {
    "name": "ipython",
    "version": 3
   },
   "file_extension": ".py",
   "mimetype": "text/x-python",
   "name": "python",
   "nbconvert_exporter": "python",
   "pygments_lexer": "ipython3",
   "version": "3.9.7"
  }
 },
 "nbformat": 4,
 "nbformat_minor": 5
}
